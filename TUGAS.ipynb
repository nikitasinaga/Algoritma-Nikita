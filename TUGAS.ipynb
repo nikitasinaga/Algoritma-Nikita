{
  "cells": [
    {
      "cell_type": "markdown",
      "metadata": {
        "id": "view-in-github",
        "colab_type": "text"
      },
      "source": [
        "<a href=\"https://colab.research.google.com/github/nikitasinaga/Algoritma-Nikita/blob/main/TUGAS.ipynb\" target=\"_parent\"><img src=\"https://colab.research.google.com/assets/colab-badge.svg\" alt=\"Open In Colab\"/></a>"
      ]
    },
    {
      "cell_type": "code",
      "execution_count": 30,
      "metadata": {
        "id": "zwFnJsE6vjf8",
        "outputId": "141dd324-8f95-46e3-8cd1-1d796f6e0613",
        "colab": {
          "base_uri": "https://localhost:8080/"
        }
      },
      "outputs": [
        {
          "output_type": "stream",
          "name": "stdout",
          "text": [
            "masukkan nilai D2\n",
            "array setelah dikalikan dengan D [8, 2, -2, 20, 0, 24]\n"
          ]
        }
      ],
      "source": [
        "\n",
        "#program array\n",
        "\n",
        "S=[4, 1, -1, 10, 0, 12]\n",
        "D=int(input(\"masukkan nilai D\"))\n",
        "S=[x*D for x in S]\n",
        "print(\"array setelah dikalikan dengan D\",S)"
      ]
    },
    {
      "cell_type": "code",
      "source": [
        "def cari_terbesar(T):\n",
        "  terbesar = T[0]"
      ],
      "metadata": {
        "id": "utcEdLlfLXsY"
      },
      "execution_count": null,
      "outputs": []
    },
    {
      "cell_type": "code",
      "source": [],
      "metadata": {
        "id": "gcdF86tvNkOh"
      },
      "execution_count": null,
      "outputs": []
    }
  ],
  "metadata": {
    "colab": {
      "name": "Selamat Datang di Colaboratory",
      "toc_visible": true,
      "provenance": [],
      "include_colab_link": true
    },
    "kernelspec": {
      "display_name": "Python 3",
      "name": "python3"
    }
  },
  "nbformat": 4,
  "nbformat_minor": 0
}