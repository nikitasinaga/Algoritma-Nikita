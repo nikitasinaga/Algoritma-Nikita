{
  "cells": [
    {
      "cell_type": "markdown",
      "metadata": {
        "id": "view-in-github",
        "colab_type": "text"
      },
      "source": [
        "<a href=\"https://colab.research.google.com/github/nikitasinaga/Algoritma-Nikita/blob/main/p6.ipynb\" target=\"_parent\"><img src=\"https://colab.research.google.com/assets/colab-badge.svg\" alt=\"Open In Colab\"/></a>"
      ]
    },
    {
      "cell_type": "code",
      "source": [
        "#Kondisi if adalah kondisi yang akan dieksekusi oleh program jika bernilai benar atau TRUE\n",
        "\n",
        "nilai = 9\n",
        "\n",
        "#jika kondisi benar/TRUE maka program akan mengeksekusi perintah dibawahnya\n",
        "if(nilai > 7):\n",
        "    print(\"Sembilan Lebih Besar Dari Angka Tujuh\") # Kondisi Benar, Dieksekusi\n",
        "\n",
        "#jika kondisi salah/FALSE maka program tidak akan mengeksekusi perintah dibawahnya\n",
        "if(nilai > 10):\n",
        "    print(\"Sembilan Lebih Besar Dari Angka Sepuluh\") # Kondisi Salah, Maka tidak tereksekusi"
      ],
      "metadata": {
        "colab": {
          "base_uri": "https://localhost:8080/"
        },
        "id": "7wI5JqOU4gzU",
        "outputId": "1caee07a-dc27-4af0-f60e-caf6aca55a3c"
      },
      "execution_count": 1,
      "outputs": [
        {
          "output_type": "stream",
          "name": "stdout",
          "text": [
            "Sembilan Lebih Besar Dari Angka Tujuh\n"
          ]
        }
      ]
    },
    {
      "cell_type": "markdown",
      "source": [],
      "metadata": {
        "id": "eZsLF6FI4iXE"
      }
    },
    {
      "cell_type": "code",
      "source": [
        "grade = 100\n",
        "\n",
        "if grade == 100:\n",
        "    print(\"perfect\")\n",
        "\n",
        "if grade == 90:\n",
        "    print(\"ok\")\n",
        "    print(\"keep working hard!\")"
      ],
      "metadata": {
        "colab": {
          "base_uri": "https://localhost:8080/"
        },
        "id": "y-i138EQ4ipE",
        "outputId": "65db6617-597a-4256-d6b3-9b45014c70cb"
      },
      "execution_count": 3,
      "outputs": [
        {
          "output_type": "stream",
          "name": "stdout",
          "text": [
            "perfect\n"
          ]
        }
      ]
    },
    {
      "cell_type": "markdown",
      "source": [],
      "metadata": {
        "id": "LyNwBBlt4i6c"
      }
    },
    {
      "cell_type": "code",
      "source": [
        "grade = float(input(\"Masukkan Nilai Anda: \"))\n",
        "\n",
        "if grade == 100:\n",
        "    print(\"perfect\")\n",
        "\n",
        "if grade == 90:\n",
        "    print(\"ok\")\n",
        "    print(\"keep working hard!\")"
      ],
      "metadata": {
        "colab": {
          "base_uri": "https://localhost:8080/"
        },
        "id": "ZCBApY924jKU",
        "outputId": "e2e5b3df-4895-415a-b682-8d2ce4b6e43f"
      },
      "execution_count": 4,
      "outputs": [
        {
          "output_type": "stream",
          "name": "stdout",
          "text": [
            "Masukkan Nilai Anda: 90\n",
            "ok\n",
            "keep working hard!\n"
          ]
        }
      ]
    },
    {
      "cell_type": "code",
      "source": [
        "# Kondisi if else adalah jika kondisi bernilai TRUE maka akan dieksekusi pada if,\n",
        "# tetapi jika bernilai FALSE maka akan dieksekusi kode pada else\n",
        "\n",
        "nilai = 3\n",
        "# Jika pernyataan pada if bernilai TRUE maka if akan dieksekusi,\n",
        "# tetapi jika FALSE kode pada else yang akan dieksekusi.\n",
        "if(nilai > 7):\n",
        "    print(\"Selamat Anda Lulus\")\n",
        "else:\n",
        "    print(\"Maaf Anda Tidak Lulus\")"
      ],
      "metadata": {
        "colab": {
          "base_uri": "https://localhost:8080/"
        },
        "id": "DyxR5Ggq4k_L",
        "outputId": "41bee683-c7b7-495a-a0d2-81125ae1e251"
      },
      "execution_count": 5,
      "outputs": [
        {
          "output_type": "stream",
          "name": "stdout",
          "text": [
            "Maaf Anda Tidak Lulus\n"
          ]
        }
      ]
    },
    {
      "cell_type": "code",
      "source": [],
      "metadata": {
        "id": "fw_OB950_eMq"
      },
      "execution_count": null,
      "outputs": []
    },
    {
      "cell_type": "code",
      "source": [
        "str_input = ('95')\n",
        "grade = int(str_input)\n",
        "if grade == 100:\n",
        "  print(\"perfect\")\n",
        "else:\n",
        "  print(\"keep it up\")\n",
        "\n"
      ],
      "metadata": {
        "colab": {
          "base_uri": "https://localhost:8080/"
        },
        "id": "G-6sq4Z07WTC",
        "outputId": "d8accf59-46ae-458f-aaa2-f26387e2efd2"
      },
      "execution_count": 13,
      "outputs": [
        {
          "output_type": "stream",
          "name": "stdout",
          "text": [
            "keep it up\n"
          ]
        }
      ]
    },
    {
      "cell_type": "code",
      "source": [
        "Lapar = input(\"Apakah zaki lapar? \")\n",
        "if(\"lapar == ya\"):\n",
        "  print(\"Zaki makan\")\n",
        "else:\n",
        "  print(\"Zaki tidak makan\")"
      ],
      "metadata": {
        "colab": {
          "base_uri": "https://localhost:8080/"
        },
        "id": "Z-o6Hn-O7WDK",
        "outputId": "92d65b2f-d5ed-4ddc-aaa4-8f9957bef9e5"
      },
      "execution_count": 18,
      "outputs": [
        {
          "output_type": "stream",
          "name": "stdout",
          "text": [
            "Apakah zaki lapar? ya\n",
            "Zaki makan\n"
          ]
        }
      ]
    },
    {
      "cell_type": "code",
      "source": [],
      "metadata": {
        "id": "0nEGmOYNHus3"
      },
      "execution_count": null,
      "outputs": []
    },
    {
      "cell_type": "code",
      "source": [
        "hari_ini = \"Minggu\"\n",
        "\n",
        "if(hari_ini == \"Senin\"):\n",
        "    print(\"Saya akan kuliah\")\n",
        "elif(hari_ini == \"Selasa\"):\n",
        "    print(\"Saya akan kuliah\")\n",
        "elif(hari_ini == \"Rabu\"):\n",
        "    print(\"Saya akan kuliah\")\n",
        "elif(hari_ini == \"Kamis\"):\n",
        "    print(\"Saya akan kuliah\")\n",
        "elif(hari_ini == \"Jumat\"):\n",
        "    print(\"Saya akan kuliah\")\n",
        "elif(hari_ini == \"Sabtu\"):\n",
        "    print(\"Saya akan kuliah\")\n",
        "elif(hari_ini == \"Minggu\"):\n",
        "    print(\"Saya akan libur\")"
      ],
      "metadata": {
        "colab": {
          "base_uri": "https://localhost:8080/"
        },
        "id": "mkUnvYfzAAfw",
        "outputId": "94944d04-9b7f-43fe-eef1-cb0ab644399c"
      },
      "execution_count": 11,
      "outputs": [
        {
          "output_type": "stream",
          "name": "stdout",
          "text": [
            "Saya akan libur\n"
          ]
        }
      ]
    },
    {
      "cell_type": "code",
      "source": [
        "str_input = input('Enter your grade: ')\n",
        "grade = int(str_input)\n",
        "\n",
        "if grade == 100:\n",
        "    print(\"perfect\")\n",
        "elif grade >= 85:\n",
        "    print(\"awesome\")\n",
        "elif grade >= 65:\n",
        "    print(\"passed the exam\")"
      ],
      "metadata": {
        "colab": {
          "base_uri": "https://localhost:8080/"
        },
        "id": "ngk9GF74AMvj",
        "outputId": "4b877759-a9f5-4bf6-e300-c7d6e5d68f30"
      },
      "execution_count": 12,
      "outputs": [
        {
          "output_type": "stream",
          "name": "stdout",
          "text": [
            "Enter your grade: 90\n",
            "awesome\n"
          ]
        }
      ]
    },
    {
      "cell_type": "code",
      "source": [
        "str_input = input('Enter your grade: ')\n",
        "grade = int(str_input)\n",
        "\n",
        "if grade == 100:\n",
        "    print(\"perfect\")\n",
        "elif grade >= 85:\n",
        "    print(\"awesome\")\n",
        "elif grade >= 65:\n",
        "    print(\"passed the exam\")\n",
        "else:\n",
        "    print(\"below the passing grade\")"
      ],
      "metadata": {
        "colab": {
          "base_uri": "https://localhost:8080/"
        },
        "id": "jNNZUXeGAM4J",
        "outputId": "32141ab9-8e22-4746-c05b-731e603bceae"
      },
      "execution_count": 19,
      "outputs": [
        {
          "output_type": "stream",
          "name": "stdout",
          "text": [
            "Enter your grade: 96\n",
            "awesome\n"
          ]
        }
      ]
    },
    {
      "cell_type": "code",
      "source": [
        "str_input = input('Enter your grade: ')\n",
        "grade = int(str_input)\n",
        "\n",
        "if grade == 100:\n",
        "    print(\"perfect\")\n",
        "\n",
        "elif grade >= 85:\n",
        "    print(\"awesome\")\n",
        "\n",
        "elif grade >= 65:\n",
        "    print(\"passed the exam\")\n",
        "\n",
        "    if grade <= 70:\n",
        "        print(\"but you need to improve it!\")\n",
        "    else:\n",
        "        print(\"with ok grade\")\n",
        "\n",
        "else:\n",
        "    print(\"below the passing grade\")"
      ],
      "metadata": {
        "colab": {
          "base_uri": "https://localhost:8080/"
        },
        "id": "05pV3eyzB7CB",
        "outputId": "3f90832f-15b8-4902-c8c8-fafbcf0a6a47"
      },
      "execution_count": 20,
      "outputs": [
        {
          "output_type": "stream",
          "name": "stdout",
          "text": [
            "Enter your grade: 90\n",
            "awesome\n"
          ]
        }
      ]
    },
    {
      "cell_type": "code",
      "source": [
        "grade = int(input('Enter your current grade: '))\n",
        "prev_grade = int(input('Enter your previous grade: '))\n",
        "\n",
        "if grade >= 90 and prev_grade >= 65:\n",
        "    print(\"awesome\")\n",
        "if grade >= 90 and prev_grade < 65:\n",
        "    print(\"awesome. you definitely working hard, right?\")\n",
        "elif grade >= 65:\n",
        "    print(\"passed the exam\")\n",
        "else:\n",
        "    print(\"below the passing grade\")\n",
        "\n",
        "if (grade >= 65 and not prev_grade >= 65) or (not grade >= 65 and prev_grade >= 65):\n",
        "    print(\"at least you passed one exam. good job!\")\n",
        "\n",
        "\n",
        "\n",
        ""
      ],
      "metadata": {
        "colab": {
          "base_uri": "https://localhost:8080/"
        },
        "id": "azBwNHDAD5sA",
        "outputId": "d803de84-ce9a-4373-b33a-179fd1251a09"
      },
      "execution_count": 21,
      "outputs": [
        {
          "output_type": "stream",
          "name": "stdout",
          "text": [
            "Enter your current grade: 92\n",
            "Enter your previous grade: 80\n",
            "awesome\n",
            "passed the exam\n"
          ]
        }
      ]
    },
    {
      "cell_type": "code",
      "source": [
        "umur = 20\n",
        "status = 'Dewasa' if umur >= 18 else 'Anak-anak'\n",
        "print(status)"
      ],
      "metadata": {
        "colab": {
          "base_uri": "https://localhost:8080/"
        },
        "id": "wjjV9E9eFiu6",
        "outputId": "74d0f612-088c-4e55-bdbb-8a469e40cc6e"
      },
      "execution_count": 25,
      "outputs": [
        {
          "output_type": "stream",
          "name": "stdout",
          "text": [
            "Dewasa\n"
          ]
        }
      ]
    },
    {
      "cell_type": "code",
      "source": [
        "#soal 1\n",
        "\n",
        "\n",
        "grade = int(input(\"bilangan bulat:\"))\n",
        "\n",
        "if(grade % 3 == 0):\n",
        "  print(\"bilangan habis dibagi 3\")\n",
        "else:\n",
        "  print(\"bilangan tidak habis dibagi 3\")\n"
      ],
      "metadata": {
        "colab": {
          "base_uri": "https://localhost:8080/"
        },
        "id": "cM_-w3joF00o",
        "outputId": "cf9cccd6-69f3-42eb-e215-1293c90d4391"
      },
      "execution_count": 28,
      "outputs": [
        {
          "output_type": "stream",
          "name": "stdout",
          "text": [
            "bilangan bulat:12\n",
            "bilangan habis dibagi 3\n"
          ]
        }
      ]
    },
    {
      "cell_type": "code",
      "source": [
        "#soal 2\n",
        "\n",
        "nama = input(\"masukan nama anda : \")\n",
        "jenis_kelamin = input(\"masukan jenis kelamin(pria/wanita): \")\n",
        "\n",
        "if (jenis_kelamin == \"pria\"):\n",
        "  print(\"hallo bro\",nama)\n",
        "else:\n",
        "  print(\"hallo sis\",nama)\n"
      ],
      "metadata": {
        "colab": {
          "base_uri": "https://localhost:8080/"
        },
        "id": "M93tofzQHw6_",
        "outputId": "87659354-f263-4dca-8ac6-80dacb845a11"
      },
      "execution_count": 42,
      "outputs": [
        {
          "output_type": "stream",
          "name": "stdout",
          "text": [
            "masukan nama anda : nikita\n",
            "masukan jenis kelamin(pria/wanita): wanita\n",
            "hallo sis nikita\n"
          ]
        }
      ]
    },
    {
      "cell_type": "code",
      "source": [
        "#soal 3\n",
        "\n",
        "str_input = input('Enter your grade: ')\n",
        "grade = int(str_input)\n",
        "\n",
        "if grade == 60 :\n",
        "    print(\"berat badan berlebihan\")\n",
        "elif grade >= 45-55:\n",
        "    print(\"berat badan ideal\")\n",
        "elif grade <= 35:\n",
        "    print(\"terlalu kurus\")"
      ],
      "metadata": {
        "colab": {
          "base_uri": "https://localhost:8080/"
        },
        "id": "QOayNSpAOLaU",
        "outputId": "bca914f6-4520-416d-df46-a33a8a56f976"
      },
      "execution_count": 50,
      "outputs": [
        {
          "output_type": "stream",
          "name": "stdout",
          "text": [
            "Enter your grade: 50\n",
            "berat badan ideal\n"
          ]
        }
      ]
    }
  ],
  "metadata": {
    "colab": {
      "name": "Selamat Datang di Colaboratory",
      "provenance": [],
      "include_colab_link": true
    },
    "kernelspec": {
      "display_name": "Python 3",
      "name": "python3"
    }
  },
  "nbformat": 4,
  "nbformat_minor": 0
}