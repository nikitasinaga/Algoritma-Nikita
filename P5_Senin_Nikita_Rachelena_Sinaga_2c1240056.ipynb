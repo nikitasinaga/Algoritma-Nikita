{
  "nbformat": 4,
  "nbformat_minor": 0,
  "metadata": {
    "colab": {
      "provenance": [],
      "authorship_tag": "ABX9TyNlhb8j9ywdLuTBeb0kp2t9",
      "include_colab_link": true
    },
    "kernelspec": {
      "name": "python3",
      "display_name": "Python 3"
    },
    "language_info": {
      "name": "python"
    }
  },
  "cells": [
    {
      "cell_type": "markdown",
      "metadata": {
        "id": "view-in-github",
        "colab_type": "text"
      },
      "source": [
        "<a href=\"https://colab.research.google.com/github/nikitasinaga/Algoritma-Nikita/blob/main/P5_Senin_Nikita_Rachelena_Sinaga_2c1240056.ipynb\" target=\"_parent\"><img src=\"https://colab.research.google.com/assets/colab-badge.svg\" alt=\"Open In Colab\"/></a>"
      ]
    },
    {
      "cell_type": "code",
      "execution_count": 1,
      "metadata": {
        "colab": {
          "base_uri": "https://localhost:8080/"
        },
        "id": "7UxuwPks0Q3Y",
        "outputId": "a6de8cff-5e2c-4584-962f-4afca08c840f"
      },
      "outputs": [
        {
          "output_type": "stream",
          "name": "stdout",
          "text": [
            "Hello, World!\n"
          ]
        }
      ],
      "source": [
        "#Program HelloWorld\n",
        "#Mencetak Hello, World! ke layar\n",
        "\n",
        "#KAMUS\n",
        "#belum diperlukan\n",
        "\n",
        "#ALGORITMA\n",
        "print(\"Hello, World!\")"
      ]
    },
    {
      "cell_type": "code",
      "source": [
        "#Program Test\n",
        "#Spesifikasi : Menghitung nilai A dan B\n",
        "\n",
        "#KAMUS\n",
        "#A : int\n",
        "#B : int\n",
        "\n",
        "#ALGORITMA\n",
        "A = int(input(\"Masukkan nilai A\"))\n",
        "B = int(input(\"Masukkan nilai B\"))\n",
        "\n",
        "A=A+B\n",
        "\n",
        "print(A)\n",
        "print (B)\n"
      ],
      "metadata": {
        "colab": {
          "base_uri": "https://localhost:8080/"
        },
        "id": "pS8apdmO2gBZ",
        "outputId": "cefcdec0-8efc-4f38-c084-d666ac21a666"
      },
      "execution_count": 3,
      "outputs": [
        {
          "output_type": "stream",
          "name": "stdout",
          "text": [
            "Masukkan nilai A8\n",
            "Masukkan nilai B7\n",
            "15\n",
            "7\n"
          ]
        }
      ]
    },
    {
      "cell_type": "code",
      "source": [
        "#Program Toko Kelereng\n",
        "#Spesifikasi : Menghitung total nilai\n",
        "\n",
        "#KAMUS\n",
        "#M : 10\n",
        "#H : 15\n",
        "#K : 20\n",
        "\n",
        "#ALGORITMA\n",
        "M = int(input(\"masukkan jumlah kelereng : M\"))\n",
        "H = int(input(\"Masukkan jumlah kelereng : H\"))\n",
        "K = int(input(\"masukkan jumlah kelereng : K\"))\n",
        "\n",
        "TOTALHARGAKELERENG=M*10+H*15+K*20\n",
        "\n",
        "print(TOTALHARGAKELERENG)\n"
      ],
      "metadata": {
        "colab": {
          "base_uri": "https://localhost:8080/"
        },
        "id": "_kQvTn_a9tqa",
        "outputId": "5db808ba-1731-4288-8ebf-f425ad41bcea"
      },
      "execution_count": 4,
      "outputs": [
        {
          "output_type": "stream",
          "name": "stdout",
          "text": [
            "masukkan jumlah kelereng : M10\n",
            "Masukkan jumlah kelereng : H15\n",
            "masukkan jumlah kelereng : K20\n",
            "725\n"
          ]
        }
      ]
    }
  ]
}