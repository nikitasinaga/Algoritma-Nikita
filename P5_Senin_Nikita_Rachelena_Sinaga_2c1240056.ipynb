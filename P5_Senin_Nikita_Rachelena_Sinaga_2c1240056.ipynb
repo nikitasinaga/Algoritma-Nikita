{
  "nbformat": 4,
  "nbformat_minor": 0,
  "metadata": {
    "colab": {
      "provenance": [],
      "authorship_tag": "ABX9TyPckU+af4bGjOHOvk73qx9d",
      "include_colab_link": true
    },
    "kernelspec": {
      "name": "python3",
      "display_name": "Python 3"
    },
    "language_info": {
      "name": "python"
    }
  },
  "cells": [
    {
      "cell_type": "markdown",
      "metadata": {
        "id": "view-in-github",
        "colab_type": "text"
      },
      "source": [
        "<a href=\"https://colab.research.google.com/github/nikitasinaga/Algoritma-Nikita/blob/main/P5_Senin_Nikita_Rachelena_Sinaga_2c1240056.ipynb\" target=\"_parent\"><img src=\"https://colab.research.google.com/assets/colab-badge.svg\" alt=\"Open In Colab\"/></a>"
      ]
    },
    {
      "cell_type": "code",
      "execution_count": 1,
      "metadata": {
        "colab": {
          "base_uri": "https://localhost:8080/"
        },
        "id": "7UxuwPks0Q3Y",
        "outputId": "a6de8cff-5e2c-4584-962f-4afca08c840f"
      },
      "outputs": [
        {
          "output_type": "stream",
          "name": "stdout",
          "text": [
            "Hello, World!\n"
          ]
        }
      ],
      "source": [
        "#Program HelloWorld\n",
        "#Mencetak Hello, World! ke layar\n",
        "\n",
        "#KAMUS\n",
        "#belum diperlukan\n",
        "\n",
        "#ALGORITMA\n",
        "print(\"Hello, World!\")"
      ]
    },
    {
      "cell_type": "code",
      "source": [
        "#Program Test\n",
        "#Spesifikasi : Menghitung nilai A dan B\n",
        "\n",
        "#KAMUS\n",
        "#A : int\n",
        "#B : int\n",
        "\n",
        "#ALGORITMA\n",
        "A = int(input(\"Masukkan nilai A\"))\n",
        "B = int(input(\"Masukkan nilai B\"))\n",
        "\n",
        "A=A+B\n",
        "\n",
        "print(A)\n",
        "print (B)\n"
      ],
      "metadata": {
        "colab": {
          "base_uri": "https://localhost:8080/"
        },
        "id": "pS8apdmO2gBZ",
        "outputId": "cefcdec0-8efc-4f38-c084-d666ac21a666"
      },
      "execution_count": 3,
      "outputs": [
        {
          "output_type": "stream",
          "name": "stdout",
          "text": [
            "Masukkan nilai A8\n",
            "Masukkan nilai B7\n",
            "15\n",
            "7\n"
          ]
        }
      ]
    },
    {
      "cell_type": "markdown",
      "source": [],
      "metadata": {
        "id": "ZPNQts9rLwwW"
      }
    },
    {
      "cell_type": "code",
      "source": [],
      "metadata": {
        "id": "-vco9jA3MrjW"
      },
      "execution_count": null,
      "outputs": []
    },
    {
      "cell_type": "code",
      "source": [
        "#Program Toko Kelereng\n",
        "#Spesifikasi : Menghitung total nilai\n",
        "\n",
        "#KAMUS\n",
        "#M : 10\n",
        "#H : 15\n",
        "#K : 20\n",
        "\n",
        "#ALGORITMA\n",
        "M = int(input(\"masukkan jumlah kelereng : M\"))\n",
        "H = int(input(\"Masukkan jumlah kelereng : H\"))\n",
        "K = int(input(\"masukkan jumlah kelereng : K\"))\n",
        "\n",
        "TOTALHARGAKELERENG=M*10+H*15+K*20\n",
        "\n",
        "print(TOTALHARGAKELERENG)\n"
      ],
      "metadata": {
        "colab": {
          "base_uri": "https://localhost:8080/"
        },
        "id": "_kQvTn_a9tqa",
        "outputId": "5db808ba-1731-4288-8ebf-f425ad41bcea"
      },
      "execution_count": 4,
      "outputs": [
        {
          "output_type": "stream",
          "name": "stdout",
          "text": [
            "masukkan jumlah kelereng : M10\n",
            "Masukkan jumlah kelereng : H15\n",
            "masukkan jumlah kelereng : K20\n",
            "725\n"
          ]
        }
      ]
    },
    {
      "cell_type": "code",
      "source": [
        "#proses memasukan data ke dalam variabel\n",
        "nama = \"John Doe\"\n",
        "#proses mencetak variabel\n",
        "print(nama)\n",
        "#nilai dan tipe data dalam variabel dapat diubah\n",
        "umur = 20 #nilai awal\n",
        "print(umur) #mencetak nilai umur\n",
        "type(umur) #mengecek tipe data umur\n",
        "umur = \"dua puluh satu\" #nilai setelah diubah\n",
        "print(umur) #mencetak nilai umur\n",
        "type(umur) #mengecek tipe data umur\n",
        "namaDepan = \"Budi\"\n",
        "namaBelakang = \"Susanto\"\n",
        "nama = namaDepan + \" \" + namaBelakang\n",
        "umur = 22\n",
        "hobi = \"Berenang\"\n",
        "print(\"Biodata\\n\", nama, \"\\n\", umur, \"\\n\", hobi)"
      ],
      "metadata": {
        "colab": {
          "base_uri": "https://localhost:8080/"
        },
        "id": "r3raXIuLMteu",
        "outputId": "4ee541fa-59ba-4b1f-a26c-4b3ae5ed3563"
      },
      "execution_count": 5,
      "outputs": [
        {
          "output_type": "stream",
          "name": "stdout",
          "text": [
            "John Doe\n",
            "20\n",
            "dua puluh satu\n",
            "Biodata\n",
            " Budi Susanto \n",
            " 22 \n",
            " Berenang\n"
          ]
        }
      ]
    },
    {
      "cell_type": "code",
      "source": [
        "S = input(\"Masukkan kalimat: \") #(1)\n",
        "print(\"Anda memasuk kan kalimat: \" + S) #(2)\n",
        "N = int(input(\"Masukkan sebuah angka: \")) # (3)\n",
        "print(\"Jika angka Anda ditambah 5, hasilnya: \" + str(N + 5)) #(4)"
      ],
      "metadata": {
        "id": "NZK5FaxKNFIn"
      },
      "execution_count": null,
      "outputs": []
    },
    {
      "cell_type": "code",
      "source": [
        "#tipe data Boolean\n",
        "print(True)\n",
        "#tipe data String\n",
        "print(\"Ayo belajar Python\")\n",
        "print('Belajar Python Sangat Mudah')\n",
        "#tipe data Integer\n",
        "print(20)\n",
        "#tipe data Float\n",
        "print(3.14)\n",
        "#tipe data Hexadecimal\n",
        "print(0x9a) # Perbaikan: menambahkan awalan 0x\n",
        "#tipe data Complex\n",
        "print(5j)\n",
        "#tipe data List\n",
        "print([1,2,3,4,5])\n",
        "print([\"satu\", \"dua\", \"tiga\"])\n",
        "#tipe data Tuple\n",
        "print((1,2,3,4,5))\n",
        "print((\"satu\", \"dua\", \"tiga\"))\n",
        "#tipe data Dictionary\n",
        "print({\"nama\":\"Budi\", 'umur':20})\n",
        "#tipe data Dictionary dimasukan ke dalam variabel biodata\n",
        "biodata = {\"nama\":\"Andi\", 'umur':21} #proses inisialisasi variabel biodata\n",
        "print(biodata) #proses pencetakan variabel biodata yang berisi tipe data\n",
        "Dictionary\n",
        "print(type(biodata)) #fungsi untuk mengecek jenis tipe data. akan tampil\n",
        "<class 'dict'> yang berarti dict adalah tipe data dictionary"
      ],
      "metadata": {
        "id": "7N1Y7xbNNcfW"
      },
      "execution_count": null,
      "outputs": []
    },
    {
      "cell_type": "code",
      "source": [
        "x = set([1, 2, 3])\n",
        "y = tuple({5, 6, 7})\n",
        "z = list((‘hello’))\n",
        "print(x)\n",
        "print(y)\n",
        "print(z)\n"
      ],
      "metadata": {
        "id": "xkANpENgOO6P"
      },
      "execution_count": null,
      "outputs": []
    },
    {
      "cell_type": "code",
      "source": [
        "# Penjumlahan\n",
        "print(13 + 2)\n",
        "apel = 7\n",
        "jeruk = 9\n",
        "buah = apel + jeruk # Menjumlahkan jumlah apel dan jeruk\n",
        "print(f\"Jumlah buah: {buah}\")\n",
        "# Pengurangan\n",
        "hutang = 10000\n",
        "bayar = 5000\n",
        "sisa_hutang = hutang - bayar # Menghitung sisa hutang\n",
        "print(f\"Sisa hutang Anda adalah {sisa_hutang}\")\n",
        "# Perkalian\n",
        "panjang = 15\n",
        "lebar = 8\n",
        "luas = panjang * lebar # Menghitung luas persegi panjang\n",
        "print(f\"Luas persegi panjang: {luas}\")\n",
        "# Pembagian\n",
        "kue = 16\n",
        "anak = 4\n",
        "kue_per_anak = kue / anak # Menghitung bagian kue per anak\n",
        "print(f\"Setiap anak akan mendapatkan bagian kue sebanyak {kue_per_anak}\")\n",
        "# Sisa Bagi / Modulus\n",
        "bilangan1 = 14\n",
        "bilangan2 = 5\n",
        "hasil = bilangan1 % bilangan2 # Menghitung sisa bagi\n",
        "print(f\"Sisa bagi dari bilangan {bilangan1} dan {bilangan2} adalah\n",
        "{hasil}\")\n",
        "# Pangkat\n",
        "bilangan3 = 8\n",
        "bilangan4 = 2\n",
        "hasil_pangkat = bilangan3 ** bilangan4 # Menghitung hasil pangkat\n",
        "print(f\"Hasil pangkat: {hasil_pangkat}\")\n",
        "# Pembagian Bulat\n",
        "print(10 // 3)\n",
        "# 10 dibagi 3 adalah 3.3333. Karena dibulatkan maka akan menghasilkan\n",
        "nilai 3"
      ],
      "metadata": {
        "id": "DOqfr6kNOvaA"
      },
      "execution_count": null,
      "outputs": []
    },
    {
      "cell_type": "code",
      "source": [
        "#SOAL 1\n",
        "s = float(input(\"masukkan panjang sisi persegi: \"))\n",
        "luas_persegi = s*s\n",
        "print(\" jadi luas persegi adalah\",\n",
        "      luas_persegi)"
      ],
      "metadata": {
        "colab": {
          "base_uri": "https://localhost:8080/"
        },
        "id": "QmUsDIwIPRF5",
        "outputId": "3419d973-15f8-41d5-e10e-23ddceeae38b"
      },
      "execution_count": 10,
      "outputs": [
        {
          "output_type": "stream",
          "name": "stdout",
          "text": [
            "masukkan panjang sisi persegi: 2.5\n",
            " jadi luas persegi adalah 6.25\n"
          ]
        }
      ]
    },
    {
      "cell_type": "code",
      "source": [
        "#SOAL 2\n"
      ],
      "metadata": {
        "id": "FSso8igORBpx"
      },
      "execution_count": null,
      "outputs": []
    }
  ]
}