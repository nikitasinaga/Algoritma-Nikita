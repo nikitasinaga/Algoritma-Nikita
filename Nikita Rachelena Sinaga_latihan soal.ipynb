{
  "cells": [
    {
      "cell_type": "markdown",
      "metadata": {
        "id": "view-in-github",
        "colab_type": "text"
      },
      "source": [
        "<a href=\"https://colab.research.google.com/github/nikitasinaga/Algoritma-Nikita/blob/main/Nikita%20Rachelena%20Sinaga_latihan%20soal.ipynb\" target=\"_parent\"><img src=\"https://colab.research.google.com/assets/colab-badge.svg\" alt=\"Open In Colab\"/></a>"
      ]
    },
    {
      "cell_type": "code",
      "source": [
        "#SOAL 1\n",
        "#Program meminta pengguna memasukkan nama\n",
        "nama = input(\"Masukkan nama Anda: \")\n",
        "print(\"Halo, \" + nama + \"! selamat belajar python!\")"
      ],
      "metadata": {
        "colab": {
          "base_uri": "https://localhost:8080/"
        },
        "id": "HriTxnRZERLL",
        "outputId": "3f056462-eb71-4154-a9d7-303ff4ebc42e"
      },
      "execution_count": null,
      "outputs": [
        {
          "output_type": "stream",
          "name": "stdout",
          "text": [
            "Masukkan nama Anda: Nikita Rachelena\n",
            "Halo, Nikita Rachelena! selamat belajar python!\n"
          ]
        }
      ]
    },
    {
      "cell_type": "code",
      "source": [
        "#soal 2\n",
        "#progrma untuk menghitung luas persegi panjang\n",
        "panjang = float(input(\"Masukkan panjang persegi panjang: \"))\n",
        "lebar = float(input(\"Masukkan lebar persegi panjang: \"))\n",
        "luas = panjang * lebar\n",
        "print(\"Luas persegi panjang adalah:\", luas)"
      ],
      "metadata": {
        "colab": {
          "base_uri": "https://localhost:8080/"
        },
        "id": "q6FQ7bKsGFWD",
        "outputId": "497c6c07-4801-4e9a-8f06-3d747dc88699"
      },
      "execution_count": null,
      "outputs": [
        {
          "output_type": "stream",
          "name": "stdout",
          "text": [
            "Masukkan panjang persegi panjang: 5\n",
            "Masukkan lebar persegi panjang: 3\n",
            "Luas persegi panjang adalah: 15.0\n"
          ]
        }
      ]
    },
    {
      "cell_type": "code",
      "source": [
        "#soal 2\n",
        "#program menghitung luas persegi panjang\n",
        "panjang = int(input())\n",
        "lebar = int(input())\n",
        "luas = panjang * lebar\n",
        "print(luas)"
      ],
      "metadata": {
        "colab": {
          "base_uri": "https://localhost:8080/"
        },
        "id": "ud_aBQSPHtoT",
        "outputId": "91a29278-d761-4a9a-887f-b6279ae419b0"
      },
      "execution_count": null,
      "outputs": [
        {
          "output_type": "stream",
          "name": "stdout",
          "text": [
            "5\n",
            "3\n",
            "15\n"
          ]
        }
      ]
    },
    {
      "cell_type": "code",
      "source": [
        "#soal 3\n",
        "#program menentukan apakah bilangan ganjil atau genap\n",
        "bilangan = int(input())\n",
        "if bilangan % 2 == 0:\n",
        "    print(\"bilangan genap\")\n",
        "else:\n",
        "    print(\"bilangan ganjil\")\n"
      ],
      "metadata": {
        "colab": {
          "base_uri": "https://localhost:8080/"
        },
        "id": "n0IomnfiIQ97",
        "outputId": "b7e887e3-047c-42c2-fbc3-6000af27b52a"
      },
      "execution_count": null,
      "outputs": [
        {
          "output_type": "stream",
          "name": "stdout",
          "text": [
            "7\n",
            "bilangan ganjil\n"
          ]
        }
      ]
    },
    {
      "cell_type": "code",
      "source": [
        "#soal 4\n",
        "#program menampilkan deret bilangan 1 sampai 20\n",
        "for i in range (1, 21) :\n",
        "  print (i, end = \" \")"
      ],
      "metadata": {
        "colab": {
          "base_uri": "https://localhost:8080/"
        },
        "id": "hMCQO3VOLJDL",
        "outputId": "ea3d57a3-33d0-4e06-b0a4-fc8a7bb4f49e"
      },
      "execution_count": null,
      "outputs": [
        {
          "output_type": "stream",
          "name": "stdout",
          "text": [
            "1 2 3 4 5 6 7 8 9 10 11 12 13 14 15 16 17 18 19 20 "
          ]
        }
      ]
    },
    {
      "cell_type": "code",
      "source": [
        "#soal 5\n",
        "#program memasukkan dua bilangan bulat a dan b\n",
        "#dan menghitung semua bilangan a dan b\n",
        "a = int(input( \"masukkan bilangan bulat a : \"))\n",
        "b = int(input( \"masukkan bilangan bulat b: \"))\n",
        "\n",
        "jumlah = 0\n",
        "\n",
        "while a <= b :\n",
        "  jumlah += a\n",
        "  a += 1\n",
        "print(jumlah)\n",
        "\n",
        "\n"
      ],
      "metadata": {
        "colab": {
          "base_uri": "https://localhost:8080/"
        },
        "id": "7k27ikKJNREq",
        "outputId": "57b6bdd8-bc79-4cf6-db6e-e5e9ee93b856"
      },
      "execution_count": null,
      "outputs": [
        {
          "output_type": "stream",
          "name": "stdout",
          "text": [
            "masukkan bilangan bulat a : 3\n",
            "masukkan bilangan bulat b: 7\n",
            "25\n"
          ]
        }
      ]
    },
    {
      "cell_type": "code",
      "source": [
        "#soal 6\n",
        "#memasukkan dua bilangan bulat a dan b\n",
        "#program mencetak bilangan genap dalam rentang tersebut\n",
        "a = int(input( \"masukkan bilangan bulat a : \"))\n",
        "b = int(input( \"masukkan bilangan bulat b: \"))\n",
        "print(f\"bilangan genap dalam rentang {a} sampai {b}\")\n",
        "for i in range(a, b + 1) :\n",
        "  if i % 2 == 0 :\n",
        "    print(i, end = \" \")"
      ],
      "metadata": {
        "id": "rLObUPJASiws",
        "colab": {
          "base_uri": "https://localhost:8080/"
        },
        "outputId": "4af5e732-16e0-47f2-9e7d-20a39349afa7"
      },
      "execution_count": 1,
      "outputs": [
        {
          "output_type": "stream",
          "name": "stdout",
          "text": [
            "masukkan bilangan bulat a : 3\n",
            "masukkan bilangan bulat b: 10\n",
            "bilangan genap dalam rentang 3 sampai 10\n",
            "4 6 8 10 "
          ]
        }
      ]
    },
    {
      "cell_type": "code",
      "source": [
        "#soal 7\n",
        "#program mencetak nilai array dalam urutan terbalik\n",
        "A = [5, 2, 8, 1]\n",
        "array_terbalik = [0] * len(A)\n",
        "for i in range (len(A)):\n",
        "  array_terbalik[len(A)-1 -i] = A[i]\n",
        "print (f\"array asli:{A}\")\n",
        "print (f\"array terbalik : {array_terbalik}\")\n"
      ],
      "metadata": {
        "id": "uBohoG3lV1KF",
        "colab": {
          "base_uri": "https://localhost:8080/"
        },
        "outputId": "3e01d9fa-6448-4fd9-f55a-d2a2506ab8b3"
      },
      "execution_count": 36,
      "outputs": [
        {
          "output_type": "stream",
          "name": "stdout",
          "text": [
            "array asli:[5, 2, 8, 1]\n",
            "array terbalik : [1, 8, 2, 5]\n"
          ]
        }
      ]
    },
    {
      "cell_type": "code",
      "source": [
        "#Soal 8\n",
        "#program menentukan bilangan prima\n",
        "angka = int(input(\"Masukkan bilangan: \"))\n",
        "prima = True\n",
        "\n",
        "if angka < 2:\n",
        "    prima = False\n",
        "else:\n",
        "    for i in range(2, angka):\n",
        "        if angka % i == 0:\n",
        "            prima = False\n",
        "            break\n",
        "if prima:\n",
        "    print(angka, \"adalah bilangan prima\")\n",
        "else:\n",
        "    print(angka, \"bukan bilangan prima\")\n"
      ],
      "metadata": {
        "colab": {
          "base_uri": "https://localhost:8080/"
        },
        "id": "mXmg_c9lZcJ7",
        "outputId": "9cbbea4a-0a05-4c65-c0cb-e9f4590fc5fb"
      },
      "execution_count": 23,
      "outputs": [
        {
          "output_type": "stream",
          "name": "stdout",
          "text": [
            "Masukkan bilangan: 13\n",
            "13 adalah bilangan prima\n"
          ]
        }
      ]
    }
  ],
  "metadata": {
    "colab": {
      "provenance": [],
      "include_colab_link": true
    },
    "kernelspec": {
      "display_name": "Python 3",
      "name": "python3"
    }
  },
  "nbformat": 4,
  "nbformat_minor": 0
}