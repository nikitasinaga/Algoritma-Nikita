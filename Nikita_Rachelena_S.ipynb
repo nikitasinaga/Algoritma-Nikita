{
  "nbformat": 4,
  "nbformat_minor": 0,
  "metadata": {
    "colab": {
      "provenance": [],
      "authorship_tag": "ABX9TyNwwO6obrOyhfq/piItpiCm",
      "include_colab_link": true
    },
    "kernelspec": {
      "name": "python3",
      "display_name": "Python 3"
    },
    "language_info": {
      "name": "python"
    }
  },
  "cells": [
    {
      "cell_type": "markdown",
      "metadata": {
        "id": "view-in-github",
        "colab_type": "text"
      },
      "source": [
        "<a href=\"https://colab.research.google.com/github/nikitasinaga/Algoritma-Nikita/blob/main/Nikita_Rachelena_S.ipynb\" target=\"_parent\"><img src=\"https://colab.research.google.com/assets/colab-badge.svg\" alt=\"Open In Colab\"/></a>"
      ]
    },
    {
      "cell_type": "code",
      "execution_count": 2,
      "metadata": {
        "id": "moLGwivMBH05",
        "colab": {
          "base_uri": "https://localhost:8080/"
        },
        "outputId": "174bd63e-3fbe-4c6c-e523-6378f97438b6"
      },
      "outputs": [
        {
          "output_type": "stream",
          "name": "stdout",
          "text": [
            "Masukkan nilai D: 2\n",
            "Array S setelah dikalikan dengan D: [8, 2, -2, 20, 0, 24]\n"
          ]
        }
      ],
      "source": [
        "#Mendefinisikan array S dengan 6 elemen integer\n",
        "S = [4, 1, -1, 10, 0, 12]\n",
        "\n",
        "#Menerima input integer D dari pengguna\n",
        "D = int(input(\"Masukkan nilai D: \"))\n",
        "\n",
        "#Mengalikan setiap elemen dalam array S dengan D\n",
        "S_baru = [elemen * D for elemen in S]\n",
        "\n",
        "#Mencetak elemen-elemen array S yang baru\n",
        "print(\"Array S setelah dikalikan dengan D:\", S_baru)"
      ]
    },
    {
      "cell_type": "code",
      "source": [
        "T1 = [9, 12, 30, -1, 0, 4, -1, 3, 30, 14]\n",
        "nilai_terbesarT1 = max(T1)\n",
        "print (\"nilai terbesar dari T1 adalah\", nilai_terbesarT1)\n",
        "\n",
        "nilai_terkecilT1 = min(T1)\n",
        "print (\"nilai terkecil dari T1 adalah\", nilai_terkecilT1)\n",
        "\n",
        "T2 = [1, 3, 5, 8, -12, 90, 3, 5]\n",
        "nilai_terbesarT2 = max(T2)\n",
        "print (\"nilai terbesar dari T2 adalah\", nilai_terbesarT2)\n",
        "\n",
        "nilai_terkecilT2 = min(T2)\n",
        "print (\"nilai terkecil dari T2 adalah\", nilai_terkecilT2)"
      ],
      "metadata": {
        "colab": {
          "base_uri": "https://localhost:8080/"
        },
        "id": "nEaM-S35Cscu",
        "outputId": "3684bf50-3a41-478f-adf2-69f6c070a4a2"
      },
      "execution_count": 3,
      "outputs": [
        {
          "output_type": "stream",
          "name": "stdout",
          "text": [
            "nilai terbesar dari T1 adalah 30\n",
            "nilai terkecil dari T1 adalah -1\n",
            "nilai terbesar dari T2 adalah 90\n",
            "nilai terkecil dari T2 adalah -12\n"
          ]
        }
      ]
    }
  ]
}