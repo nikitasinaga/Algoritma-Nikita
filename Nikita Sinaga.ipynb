{
  "cells": [
    {
      "cell_type": "markdown",
      "metadata": {
        "id": "view-in-github",
        "colab_type": "text"
      },
      "source": [
        "<a href=\"https://colab.research.google.com/github/nikitasinaga/Algoritma-Nikita/blob/main/Nikita%20Sinaga.ipynb\" target=\"_parent\"><img src=\"https://colab.research.google.com/assets/colab-badge.svg\" alt=\"Open In Colab\"/></a>"
      ]
    },
    {
      "cell_type": "code",
      "source": [
        "def lagu_anak_ayam_for(n):\n",
        "    for i in range(n, 0, -1):\n",
        "        if i > 1:\n",
        "            print(f\"Anak ayam turunlah {i}, mati satu tinggallah {i-1}\")\n",
        "        else:\n",
        "            print(f\"Anak ayam turunlah {i}, mati satu tinggal induknya\")\n",
        "\n",
        "# Contoh pemanggilan fungsi\n",
        "lagu_anak_ayam_for(5)"
      ],
      "metadata": {
        "id": "HiUBGvjW9EBa",
        "outputId": "0a7e6ffe-222a-4a56-a181-49b9ef4fe2d2",
        "colab": {
          "base_uri": "https://localhost:8080/"
        }
      },
      "execution_count": null,
      "outputs": [
        {
          "output_type": "stream",
          "name": "stdout",
          "text": [
            "Anak ayam turunlah 5, mati satu tinggallah 4\n",
            "Anak ayam turunlah 4, mati satu tinggallah 3\n",
            "Anak ayam turunlah 3, mati satu tinggallah 2\n",
            "Anak ayam turunlah 2, mati satu tinggallah 1\n",
            "Anak ayam turunlah 1, mati satu tinggal induknya\n"
          ]
        }
      ]
    },
    {
      "cell_type": "code",
      "source": [
        "def lagu_anak_ayam_while(n):\n",
        "    while n > 0:\n",
        "        if n > 1:\n",
        "            print(f\"Anak ayam turunlah {n}, mati satu tinggallah {n-1}\")\n",
        "        else:\n",
        "            print(f\"Anak ayam turunlah {n}, mati satu tinggal induknya\")\n",
        "        n -= 1\n",
        "\n",
        "# Contoh pemanggilan fungsi\n",
        "lagu_anak_ayam_while(5)"
      ],
      "metadata": {
        "id": "zgtImf9c-SDS",
        "outputId": "6378c06d-df25-4d2d-973c-ca9c06dd35f8",
        "colab": {
          "base_uri": "https://localhost:8080/"
        }
      },
      "execution_count": null,
      "outputs": [
        {
          "output_type": "stream",
          "name": "stdout",
          "text": [
            "Anak ayam turunlah 5, mati satu tinggallah 4\n",
            "Anak ayam turunlah 4, mati satu tinggallah 3\n",
            "Anak ayam turunlah 3, mati satu tinggallah 2\n",
            "Anak ayam turunlah 2, mati satu tinggallah 1\n",
            "Anak ayam turunlah 1, mati satu tinggal induknya\n"
          ]
        }
      ]
    },
    {
      "cell_type": "code",
      "source": [
        "def lagu_anak_ayam_format(n):\n",
        "    for i in range(n, 0, -1):\n",
        "        print(f\"Anak ayam turunlah {i}, mati satu tinggallah {i-1 if i > 1 else 'induknya'}\")\n",
        "\n",
        "# Contoh pemanggilan fungsi\n",
        "lagu_anak_ayam_format(5)"
      ],
      "metadata": {
        "id": "jsX5JBNF-r5a",
        "outputId": "45d16dda-08f0-4e80-8eb3-a7b27c38142e",
        "colab": {
          "base_uri": "https://localhost:8080/"
        }
      },
      "execution_count": null,
      "outputs": [
        {
          "output_type": "stream",
          "name": "stdout",
          "text": [
            "Anak ayam turunlah 5, mati satu tinggallah 4\n",
            "Anak ayam turunlah 4, mati satu tinggallah 3\n",
            "Anak ayam turunlah 3, mati satu tinggallah 2\n",
            "Anak ayam turunlah 2, mati satu tinggallah 1\n",
            "Anak ayam turunlah 1, mati satu tinggallah induknya\n"
          ]
        }
      ]
    },
    {
      "cell_type": "code",
      "source": [
        "#menghitung kelipatan 5\n",
        "jumlah_kelipatan_5 = 0\n",
        "N=100\n",
        "for i in range(1, 101):\n",
        "    if i % 5 == 0:\n",
        "        jumlah_kelipatan_5 += i\n",
        "        print(i)\n",
        "print(\"jumlah kelipatan 5 antara 1 s.d.N adalah\" (i+5)*20/2)"
      ],
      "metadata": {
        "id": "KM4FL7h--wcz",
        "outputId": "a0f730a8-eebb-4cd7-9bf3-d34ee8878208",
        "colab": {
          "base_uri": "https://localhost:8080/",
          "height": 613
        }
      },
      "execution_count": null,
      "outputs": [
        {
          "output_type": "stream",
          "name": "stdout",
          "text": [
            "5\n",
            "10\n",
            "15\n",
            "20\n",
            "25\n",
            "30\n",
            "35\n",
            "40\n",
            "45\n",
            "50\n",
            "55\n",
            "60\n",
            "65\n",
            "70\n",
            "75\n",
            "80\n",
            "85\n",
            "90\n",
            "95\n",
            "100\n"
          ]
        },
        {
          "output_type": "stream",
          "name": "stderr",
          "text": [
            "<>:8: SyntaxWarning: 'str' object is not callable; perhaps you missed a comma?\n",
            "<>:8: SyntaxWarning: 'str' object is not callable; perhaps you missed a comma?\n",
            "<ipython-input-6-5badaf0d9a65>:8: SyntaxWarning: 'str' object is not callable; perhaps you missed a comma?\n",
            "  print(\"jumlah kelipatan 5 antara 1 s.d.N adalah\" (i+5)*20/2)\n"
          ]
        },
        {
          "output_type": "error",
          "ename": "TypeError",
          "evalue": "'str' object is not callable",
          "traceback": [
            "\u001b[0;31m---------------------------------------------------------------------------\u001b[0m",
            "\u001b[0;31mTypeError\u001b[0m                                 Traceback (most recent call last)",
            "\u001b[0;32m<ipython-input-6-5badaf0d9a65>\u001b[0m in \u001b[0;36m<cell line: 8>\u001b[0;34m()\u001b[0m\n\u001b[1;32m      6\u001b[0m         \u001b[0mjumlah_kelipatan_5\u001b[0m \u001b[0;34m+=\u001b[0m \u001b[0mi\u001b[0m\u001b[0;34m\u001b[0m\u001b[0;34m\u001b[0m\u001b[0m\n\u001b[1;32m      7\u001b[0m         \u001b[0mprint\u001b[0m\u001b[0;34m(\u001b[0m\u001b[0mi\u001b[0m\u001b[0;34m)\u001b[0m\u001b[0;34m\u001b[0m\u001b[0;34m\u001b[0m\u001b[0m\n\u001b[0;32m----> 8\u001b[0;31m \u001b[0mprint\u001b[0m\u001b[0;34m(\u001b[0m\u001b[0;34m\"jumlah kelipatan 5 antara 1 s.d.N adalah\"\u001b[0m \u001b[0;34m(\u001b[0m\u001b[0mi\u001b[0m\u001b[0;34m+\u001b[0m\u001b[0;36m5\u001b[0m\u001b[0;34m)\u001b[0m\u001b[0;34m*\u001b[0m\u001b[0;36m20\u001b[0m\u001b[0;34m/\u001b[0m\u001b[0;36m2\u001b[0m\u001b[0;34m)\u001b[0m\u001b[0;34m\u001b[0m\u001b[0;34m\u001b[0m\u001b[0m\n\u001b[0m",
            "\u001b[0;31mTypeError\u001b[0m: 'str' object is not callable"
          ]
        }
      ]
    }
  ],
  "metadata": {
    "colab": {
      "toc_visible": true,
      "provenance": [],
      "include_colab_link": true
    },
    "kernelspec": {
      "display_name": "Python 3",
      "name": "python3"
    }
  },
  "nbformat": 4,
  "nbformat_minor": 0
}